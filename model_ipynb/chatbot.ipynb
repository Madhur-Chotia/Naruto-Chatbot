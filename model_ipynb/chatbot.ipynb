{
 "cells": [
  {
   "cell_type": "code",
   "execution_count": 1,
   "metadata": {},
   "outputs": [],
   "source": [
    "# pip3 install requests\n",
    "# pip3 install beautifulsoup4\n"
   ]
  },
  {
   "cell_type": "code",
   "execution_count": 2,
   "metadata": {},
   "outputs": [],
   "source": [
    "import pandas as pd"
   ]
  },
  {
   "cell_type": "code",
   "execution_count": 3,
   "metadata": {},
   "outputs": [
    {
     "name": "stdout",
     "output_type": "stream",
     "text": [
      "\n",
      "\n",
      "\n",
      "\n",
      "\n",
      "\n",
      "\n",
      " 20 Most Frequently Asked Questions About Naruto- Naruto Explained        \n",
      "\n",
      "\n",
      "Skip to contentHomeBlogTop 10sNewsGuidesRecommended\n",
      "\n",
      "Toggle Menu\n",
      "\n",
      "\n",
      "\n",
      "\n",
      "FAQ | Recommended 20 Answers to Most Frequently Asked Questions About Naruto\n",
      "ByAhmad Zubair \n",
      "October 15, 2020 Contents Overview\n",
      "Toggle20 Answers to the Most Frequently Asked Questions About NarutoList of 20 Answers to the Most Frequently Asked Questions About Naruto.When is Naruto’s Birthday ?What is Naruto’s Age ?What was Naruto’s Age When He Graduated From Ninja Academy ?What is Naruto’s Height ?What is Naruto’s Weight ?What is Naruto’s Blood Type ?Who Voices Naruto in Japanese ?Who Voices Naruto in English ?Why Naruto Wears Orange ?Why Does Naruto Always Say Dattebayo ?Why Naruto is the Best Character ?Why Naruto has Whiskers ?Were Naruto and Sasuke supposed to be Together ?Were Naruto and Sakura supposed to be Together ?Why Naruto is not Namikaze ?Are Naruto and Karin Related ?Can Naruto use Genjutsu ?Can Naruto Fly ?Can Naruto still Fly ?Why Naruto is so Good ?20 Answers to the Most Frequently Asked Questions About NarutoNaruto Fans are Growing Day by Day in the World of Animes.All Fans are Loyal to this Anime and deeply desire the qualities present in Various Characters from Naruto & Naruto Shippuden Anime.Fans usually look for Answers to Popular Queries (and ofcourse the unpopular ones).As Most Fans Search For, Here is aList of 20 Answers to the Most Frequently Asked Questions About Naruto.When is Naruto’s Birthday ?20 Answers to the Most Frequently Asked Questions About NarutoNaruto’s Birthday is on October 10th.What is Naruto’s Age ?In Simple Naruto Anime, his age is 12–13 Years.In Naruto Shippuden Anime, his age is 15–17 Years.What was Naruto’s Age When He Graduated From Ninja Academy ?When Naruto Graduated from Ninja Academy, his age was 12 Years.As he grew older, he became a Moral and sensible man.What is Naruto’s Height ?In Simple Naruto Anime, his Height is 145.3 to 147.5 cm or 57.2–58 inches (4.7–4.8 Feet).In Naruto Shippuden, his height is 166 cm or 65.3 inches (5.44 Feet).At the End of Naruto Shippuden or start of Boruto, his height is 180 cm (almost 6 Feet).What is Naruto’s Weight ?In Simple Naruto Anime, his weight is 40.1 kg–40.6 kg.In Naruto Shippuden, his Weight is 50.9 kg.What is Naruto’s Blood Type ?His Blood Type is B.Who Voices Naruto in Japanese ?Junko Takeuchi & Ema Kogure Voice Naruto in Japenese.Who Voices Naruto in English ?Mainly, Maile Flanagan Voice Naruto in English.Other People who voice Naruto at Specific Moments are:Stephanie Sheh Icon (Sexy Technique)Jeannie Elias (Sexy Technique) (episode 53-55)Mary Elizabeth McGlynn (Sexy Technique) (episode 177)Kate Higgins (Sexy Technique) (episode 229)Why Naruto Wears Orange ?Naruto wears Orange colour because It is associated with joy, sunshine, and the tropics.It also represents enthusiasm, attraction, happiness, encouragement, creativity, determination, fascination, success, and stimulation.He wears orange because people will probably notice that colour, as it’s eye-catching.Why Does Naruto Always Say Dattebayo ?“Dattebayo” or “Believe It” is Naruto’s catchphrase which he used in most of his sentences. This created a way of making Naruto’s speech more distinctive and unique.Dattebayo (Believe it) did not come through any culture or tradition, whereas it is to be noted that he inherited this from his mother.Kushina Uzumaki used to say Dattebane (You know) at moments when she got Excited or Angry.Kushina hoped her son (Naruto) would not inherit this habit from her but He actually did.Why Naruto is the Best Character ?Naruto is one of the Greatest Protagonists because he shows the qualities of an Ideal human being.He shows us true value of perseverence, never giving up, hard work and everything in between.Naruto is also the best character because of his warm heart and desire to create Peace.Why Naruto has Whiskers ?Naruto got whiskers around his face due to the influence of Kurama (9-Tails) when he was in Kushina’s womb.Were Naruto and Sasuke supposed to be Together ?Almost Everyone wants to put Sasuke and Naruto in lovers relationship, but that’s not what was planned in Anime nor Manga.Despite all theories saying Naruto & Sasuke were meant to be Together, I’ve a bit different view.Naruto & Sasuke were not meant to be together. This is because, although they were best friends (and rivals) but they were actually meant to be siblings.Masashi Kishimoto (Writer of Naruto) actually created Naruto as Protagonist and didn’t condsider adding Sasuke to Manga until someone suggested him to create a Rival of Naruto (that would spice up the story).That’s when Naruto and Sasuke became rivals.They were actually meant to be siblings because of them being reincarnations of Ashura & Indra (who were basically brothers).So, Naruto and Sasuke were always meant to be Rivals and not lovers, that sums up everything there it to it.Were Naruto and Sakura supposed to be Together ?No, Naruto and Sakura were not supposed to be together. Instead, Sasuke and Sakura were meant to be together.At the start of Naruto anime, Sakura’s affection for Sasuke and Hinata’s affection for Naruto is shown.At that moment, it had been decided these two couples will end up together.That’s not the only time where it is shown who they love, proofs and hints are present in the whole Anime.That brings us to the next Question.Why Naruto is not Namikaze ?Naruto belongs to Uzumaki Clan and called “Naruto Uzumaki” because there is a meaning behind it.During the Third Shinobi War, Minato had gained several enemies, They didn’t want to lose a chance to get revenge from Minato.After Minato’s death, Naruto was given Uzumaki name instead of Namikaze to prevent him from the enemies and foes of Minato Namikaze.That’s why Naruto was named Uzumaki and not Namikaze.Are Naruto and Karin Related ?Naruto and Karin are related to each other becuase of the Clan. They both belong to clan Uzumaki.Karin’s hair also relate in colour to Naruto’s Mother (Kushina’s) Hairs.Can Naruto use Genjutsu ?Yes, Naruto can use Genjutsu but he was never shown using it in Naruto or Naruto Shippuden.However, According to Fans, Naruto used a Simple Genjutsu in Boruto against Shin Uchiha. It was not mainly a Genjutsu but simply a sight of Unlocked Kurama inside Naruto which Feared Shin.Can Naruto Fly ?Yes.Naruto COULD fly.But there are limitations to it. He can only fly in Six Paths and Six Paths Sage Mode (SPSM) when he has Truth seeking orbs.Can Naruto still Fly ?No, Naruto could Fly when he had Six Paths Chakra and Truth Seeking Orbs. But in Bijuu Mode, he can’t fly.Why Naruto is so Good ?It is a result of the amazing character advancement they have centered after, during the entire series up until this point.All fundamental characters depicted in Naruto have their own story.They don’t simply come and go away.This character improvement, ties the watchers with the story.I hope Today’s Post Answered you ” Answers to the Most Frequently Asked Questions About Naruto”Your Comments and Sharing on 20 Answers to the Most Frequently Asked Questions About Naruto  Motivates and Encourages us to Answer more of your Questions !\n",
      "Thanks For Reading.\n",
      "\n",
      "\n",
      "Post Tags:\t\t\n",
      "#FAQ#Recommended Post navigationPrevious\n",
      "Previous20 Surprising Reasons Why To Watch Naruto AnimeNextContinue\n",
      "What Did The Third Hokage Do To OrochimaruSimilar Posts\n",
      "\n",
      "\n",
      "What Episode Does Sasuke Fight DanzoWhat Episode Does Sasuke Fight Danzo Introduction Sasuke’s fight against Danzo is one of the most memorable fights in Naruto. What made this fight so special was how it ended up being a turning point for Sasuke. He had to be told by his brother Itachi that he was on the wrong side before he…\n",
      "\n",
      "Read More What Episode Does Sasuke Fight DanzoContinue\n",
      " \n",
      "\n",
      "\n",
      "Why Did Kakashi Become HokageWhy Did Kakashi Become Hokage Why was Kakashi capable of becoming Hokage? Why did Kakashi become Hokage? These are very important questions, especially regarding the popular anime Naruto. Note: Read the whole article for a clear understanding. Although, you can skip the headings you already know about. Let’s talk about Kakashi’s suitability for Hokage’s role….\n",
      "\n",
      "Read More Why Did Kakashi Become HokageContinue\n",
      " \n",
      "\n",
      "\n",
      "Top 10 Strongest Quincy In Bleach [Ranking Revealed]Who are The Top 10 Strongest Quincy In Bleach? Who’s The Strongest Quincy In Bleach? If you’re looking for the answer to such questions, you’re here for the right reason. Bleach has been one of the most popular shounen of all time and the anime has finally made its comeback with the final arc The…\n",
      "\n",
      "Read More Top 10 Strongest Quincy In Bleach [Ranking Revealed]Continue\n",
      " \n",
      "\n",
      "\n",
      "How Did Sasuke Get Mangekyou SharinganMangekyou Sharingan Mangekyou Sharingan is a powerful eye technique that can only occur where there is an incredible level of hatred and anger pent up within the user. It then reverts to a regular Sharingan if those thoughts are negated at some point. Although, shifting from base to Sharingan to Mangekyou Sharingan can be controlled…\n",
      "\n",
      "Read More How Did Sasuke Get Mangekyou SharinganContinue\n",
      " \n",
      "\n",
      "\n",
      "Top My Hero Academia Strongest Characters [Officially Ranked]My Hero Academia is one of the most popular new gen series and the power system is really interesting as well since superheroes exist in the world, there are a lot of strong characters in the world. In this article, we will be taking a look at My Hero Academia Strongest Characters. Before we dive…\n",
      "\n",
      "Read More Top My Hero Academia Strongest Characters [Officially Ranked]Continue\n",
      " \n",
      "\n",
      "\n",
      "Why Did Sasuke Leave AkatsukiAs much as Naruto was Naruto’s story it was also Sasuke’s. You can argue Naruto  Shippuden put more emphasis on Sasuke’s part of the story than Naruto’s to an extent. We see Sasuke joining the most well-known evil organization in anime the Akatsuki. Why did Sasuke Leave Akatsuki? What led him to leave and fight…\n",
      "\n",
      "Read More Why Did Sasuke Leave AkatsukiContinue\n",
      " Leave a Reply Cancel replyYour email address will not be published. Required fields are marked *Comment *Name *Email *Website Save my name, email, and website in this browser for the next time I comment. \n",
      "Δ© 2023 Naruto Explained - All Rights ReservedHomeBlogPrivacy PolicyContact UsAbout Us  \n",
      "\n",
      "\n",
      "\n",
      "HomeBlogTop 10sNewsGuidesRecommended       \n",
      "\n",
      "\n",
      "\n",
      "\n",
      "\n",
      "\n"
     ]
    }
   ],
   "source": [
    "import requests\n",
    "from bs4 import BeautifulSoup\n",
    "\n",
    "def extract_text_from_webpage(url):\n",
    "    # Making a GET request to the URL\n",
    "    response = requests.get(url)\n",
    "\n",
    "    # Checking if request was successful (status code 200)\n",
    "    if response.status_code == 200:\n",
    "        # Parsing the HTML content of the webpage\n",
    "        soup = BeautifulSoup(response.text, 'html.parser')\n",
    "\n",
    "        # Extracting text from the parsed HTML\n",
    "        text = soup.get_text()\n",
    "\n",
    "        return text\n",
    "    else:\n",
    "        # Printing an error message if the request was not successful\n",
    "        print(f\"Error: Unable to fetch webpage. Status code: {response.status_code}\")\n",
    "        return None\n",
    "\n",
    "url = 'https://narutoexplained.com/20-answers-to-the-most-frequently-asked-questions-about-naruto/'\n",
    "webpage_text = extract_text_from_webpage(url)\n",
    "\n",
    "if webpage_text:\n",
    "    print(webpage_text)\n"
   ]
  },
  {
   "cell_type": "code",
   "execution_count": 4,
   "metadata": {},
   "outputs": [
    {
     "data": {
      "text/plain": [
       "'\\n\\n\\n\\n\\n\\n\\n 20 Most Frequently Asked Questions About Naruto- Naruto Explained        \\n\\n\\nSkip to contentHomeBlogTop 10sNewsGuidesRecommended\\n\\nToggle Menu\\n\\n\\n\\n\\nFAQ | Recommended 20 Answers to Most Frequently Asked Questions About Naruto\\nByAhmad Zubair \\nOctober 15, 2020 Contents Overview\\nToggle20 Answers to the Most Frequently Asked Questions About NarutoList of 20 Answers to the Most Frequently Asked Questions About Naruto.When is Naruto’s Birthday ?What is Naruto’s Age ?What was Naruto’s Age When He Graduated From Ninja Academy ?What is Naruto’s Height ?What is Naruto’s Weight ?What is Naruto’s Blood Type ?Who Voices Naruto in Japanese ?Who Voices Naruto in English ?Why Naruto Wears Orange ?Why Does Naruto Always Say Dattebayo ?Why Naruto is the Best Character ?Why Naruto has Whiskers ?Were Naruto and Sasuke supposed to be Together ?Were Naruto and Sakura supposed to be Together ?Why Naruto is not Namikaze ?Are Naruto and Karin Related ?Can Naruto use Genjutsu ?Can Naruto Fly ?Can Naruto still Fly ?Why Naruto is so Good ?20 Answers to the Most Frequently Asked Questions About NarutoNaruto Fans are Growing Day by Day in the World of Animes.All Fans are Loyal to this Anime and deeply desire the qualities present in Various Characters from Naruto & Naruto Shippuden Anime.Fans usually look for Answers to Popular Queries (and ofcourse the unpopular ones).As Most Fans Search For, Here is aList of 20 Answers to the Most Frequently Asked Questions About Naruto.When is Naruto’s Birthday ?20 Answers to the Most Frequently Asked Questions About NarutoNaruto’s Birthday is on October 10th.What is Naruto’s Age ?In Simple Naruto Anime, his age is 12–13 Years.In Naruto Shippuden Anime, his age is 15–17 Years.What was Naruto’s Age When He Graduated From Ninja Academy ?When Naruto Graduated from Ninja Academy, his age was 12 Years.As he grew older, he became a Moral and sensible man.What is Naruto’s Height ?In Simple Naruto Anime, his Height is 145.3 to 147.5 cm or 57.2–58 inches (4.7–4.8 Feet).In Naruto Shippuden, his height is 166 cm or 65.3 inches (5.44 Feet).At the End of Naruto Shippuden or start of Boruto, his height is 180 cm (almost 6 Feet).What is Naruto’s Weight ?In Simple Naruto Anime, his weight is 40.1 kg–40.6 kg.In Naruto Shippuden, his Weight is 50.9 kg.What is Naruto’s Blood Type ?His Blood Type is B.Who Voices Naruto in Japanese ?Junko Takeuchi & Ema Kogure Voice Naruto in Japenese.Who Voices Naruto in English ?Mainly, Maile Flanagan Voice Naruto in English.Other People who voice Naruto at Specific Moments are:Stephanie Sheh Icon (Sexy Technique)Jeannie Elias (Sexy Technique) (episode 53-55)Mary Elizabeth McGlynn\\xa0(Sexy Technique) (episode 177)Kate Higgins (Sexy Technique) (episode 229)Why Naruto Wears Orange ?Naruto wears Orange colour because It is associated with joy, sunshine, and the tropics.It also represents enthusiasm, attraction, happiness, encouragement, creativity, determination, fascination, success, and stimulation.He wears orange because people will probably notice that colour, as it’s eye-catching.Why Does Naruto Always Say Dattebayo ?“Dattebayo” or “Believe It” is Naruto’s catchphrase which he used in most of his sentences. This created a way of making Naruto’s speech more distinctive and unique.Dattebayo (Believe it) did not come through any culture or tradition, whereas it is to be noted that he inherited this from his mother.Kushina Uzumaki used to say Dattebane (You know) at moments when she got Excited or Angry.Kushina hoped her son (Naruto) would not inherit this habit from her but He actually did.Why Naruto is the Best Character ?Naruto is one of the Greatest Protagonists because he shows the qualities of an Ideal human being.He shows us true value of perseverence, never giving up, hard work and everything in between.Naruto is also the best character because of his warm heart and desire to create Peace.Why Naruto has Whiskers ?Naruto got whiskers around his face due to the influence of Kurama (9-Tails) when he was in Kushina’s womb.Were Naruto and Sasuke supposed to be Together ?Almost Everyone wants to put Sasuke and Naruto in lovers relationship, but that’s not what was planned in Anime nor Manga.Despite all theories saying Naruto & Sasuke were meant to be Together, I’ve a bit different view.Naruto & Sasuke were not meant to be together. This is because, although they were best friends (and rivals) but they were actually meant to be siblings.Masashi Kishimoto (Writer of Naruto) actually created Naruto as Protagonist and didn’t condsider adding Sasuke to Manga until someone suggested him to create a Rival of Naruto (that would spice up the story).That’s when Naruto and Sasuke became rivals.They were actually meant to be siblings because of them being reincarnations of Ashura & Indra (who were basically brothers).So, Naruto and Sasuke were always meant to be Rivals and not lovers, that sums up everything there it to it.Were Naruto and Sakura supposed to be Together ?No, Naruto and Sakura were not supposed to be together. Instead, Sasuke and Sakura were meant to be together.At the start of Naruto anime, Sakura’s affection for Sasuke and Hinata’s affection for Naruto is shown.At that moment, it had been decided these two couples will end up together.That’s not the only time where it is shown who they love, proofs and hints are present in the whole Anime.That brings us to the next Question.Why Naruto is not Namikaze ?Naruto belongs to Uzumaki Clan and called “Naruto Uzumaki” because there is a meaning behind it.During the Third Shinobi War, Minato had gained several enemies, They didn’t want to lose a chance to get revenge from Minato.After Minato’s death, Naruto was given Uzumaki name instead of Namikaze to prevent him from the enemies and foes of Minato Namikaze.That’s why Naruto was named Uzumaki and not Namikaze.Are Naruto and Karin Related ?Naruto and Karin are related to each other becuase of the Clan. They both belong to clan Uzumaki.Karin’s hair also relate in colour to Naruto’s Mother (Kushina’s) Hairs.Can Naruto use Genjutsu ?Yes, Naruto can use Genjutsu but he was never shown using it in Naruto or Naruto Shippuden.However, According to Fans, Naruto used a Simple Genjutsu in Boruto against Shin Uchiha. It was not mainly a Genjutsu but simply a sight of Unlocked Kurama inside Naruto which Feared Shin.Can Naruto Fly ?Yes.Naruto COULD fly.But there are limitations to it. He can only fly in Six Paths and Six Paths Sage Mode (SPSM) when he has Truth seeking orbs.Can Naruto still Fly ?No, Naruto could Fly when he had Six Paths Chakra and Truth Seeking Orbs. But in Bijuu Mode, he can’t fly.Why Naruto is so Good ?It is a result of the amazing character advancement they have centered after, during the entire series up until this point.All fundamental characters depicted in Naruto have their own story.They don’t simply come and go away.This character improvement, ties the watchers with the story.I hope Today’s Post Answered you ” Answers to the Most Frequently Asked Questions About Naruto”Your Comments and Sharing on 20 Answers to the Most Frequently Asked Questions About Naruto \\xa0Motivates and Encourages us to Answer more of your Questions !\\nThanks For Reading.\\n\\n\\nPost Tags:\\t\\t\\n#FAQ#Recommended Post navigationPrevious\\nPrevious20 Surprising Reasons Why To Watch Naruto AnimeNextContinue\\nWhat Did The Third Hokage Do To OrochimaruSimilar Posts\\n\\n\\nWhat Episode Does Sasuke Fight DanzoWhat Episode Does Sasuke Fight Danzo Introduction Sasuke’s fight against Danzo is one of the most memorable fights in Naruto. What made this fight so special was how it ended up being a turning point for Sasuke. He had to be told by his brother Itachi that he was on the wrong side before he…\\n\\nRead More What Episode Does Sasuke Fight DanzoContinue\\n \\n\\n\\nWhy Did Kakashi Become HokageWhy Did Kakashi Become Hokage Why was Kakashi capable of becoming Hokage? Why did Kakashi become Hokage? These are very important questions, especially regarding the popular anime Naruto. Note: Read the whole article for a clear understanding. Although, you can skip the headings you already know about. Let’s talk about Kakashi’s suitability for Hokage’s role….\\n\\nRead More Why Did Kakashi Become HokageContinue\\n \\n\\n\\nTop 10 Strongest Quincy In Bleach [Ranking Revealed]Who are The Top 10 Strongest Quincy In Bleach? Who’s The Strongest Quincy In Bleach? If you’re looking for the answer to such questions, you’re here for the right reason. Bleach has been one of the most popular shounen of all time and the anime has finally made its comeback with the final arc The…\\n\\nRead More Top 10 Strongest Quincy In Bleach [Ranking Revealed]Continue\\n \\n\\n\\nHow Did Sasuke Get Mangekyou SharinganMangekyou Sharingan Mangekyou Sharingan is a powerful eye technique that can only occur where there is an incredible level of hatred and anger pent up within the user. It then reverts to a regular Sharingan if those thoughts are negated at some point. Although, shifting from base to Sharingan to Mangekyou Sharingan can be controlled…\\n\\nRead More How Did Sasuke Get Mangekyou SharinganContinue\\n \\n\\n\\nTop My Hero Academia Strongest Characters [Officially Ranked]My Hero Academia is one of the most popular new gen series and the power system is really interesting as well since superheroes exist in the world, there are a lot of strong characters in the world. In this article, we will be taking a look at My Hero Academia Strongest Characters. Before we dive…\\n\\nRead More Top My Hero Academia Strongest Characters [Officially Ranked]Continue\\n \\n\\n\\nWhy Did Sasuke Leave AkatsukiAs much as Naruto was Naruto’s story it was also Sasuke’s. You can argue Naruto\\xa0 Shippuden put more emphasis on Sasuke’s part of the story than Naruto’s to an extent. We see Sasuke joining the most well-known evil organization in anime the Akatsuki. Why did Sasuke Leave Akatsuki? What led him to leave and fight…\\n\\nRead More Why Did Sasuke Leave AkatsukiContinue\\n Leave a Reply Cancel replyYour email address will not be published. Required fields are marked *Comment *Name *Email *Website Save my name, email, and website in this browser for the next time I comment. \\nΔ© 2023 Naruto Explained - All Rights ReservedHomeBlogPrivacy PolicyContact UsAbout Us  \\n\\n\\n\\nHomeBlogTop 10sNewsGuidesRecommended       \\n\\n\\n\\n\\n\\n'"
      ]
     },
     "execution_count": 4,
     "metadata": {},
     "output_type": "execute_result"
    }
   ],
   "source": [
    "webpage_text"
   ]
  },
  {
   "cell_type": "markdown",
   "metadata": {},
   "source": [
    "\n",
    "start_pattern = r'When is Naruto’s Birthday \\?20 Answers to the Most Frequently Asked Questions About NarutoNaruto’s Birthday is on October 10th\\.'\n",
    "end_pattern = r'They don’t simply come and go away\\.This character improvement, ties the watchers with the story\\.'"
   ]
  },
  {
   "cell_type": "code",
   "execution_count": 5,
   "metadata": {},
   "outputs": [
    {
     "name": "stdout",
     "output_type": "stream",
     "text": [
      "What is Naruto’s Age ?In Simple Naruto Anime, his age is 12–13 Years.In Naruto Shippuden Anime, his age is 15–17 Years.What was Naruto’s Age When He Graduated From Ninja Academy ?When Naruto Graduated from Ninja Academy, his age was 12 Years.As he grew older, he became a Moral and sensible man.What is Naruto’s Height ?In Simple Naruto Anime, his Height is 145.3 to 147.5 cm or 57.2–58 inches (4.7–4.8 Feet).In Naruto Shippuden, his height is 166 cm or 65.3 inches (5.44 Feet).At the End of Naruto Shippuden or start of Boruto, his height is 180 cm (almost 6 Feet).What is Naruto’s Weight ?In Simple Naruto Anime, his weight is 40.1 kg–40.6 kg.In Naruto Shippuden, his Weight is 50.9 kg.What is Naruto’s Blood Type ?His Blood Type is B.Who Voices Naruto in Japanese ?Junko Takeuchi & Ema Kogure Voice Naruto in Japenese.Who Voices Naruto in English ?Mainly, Maile Flanagan Voice Naruto in English.Other People who voice Naruto at Specific Moments are:Stephanie Sheh Icon (Sexy Technique)Jeannie Elias (Sexy Technique) (episode 53-55)Mary Elizabeth McGlynn (Sexy Technique) (episode 177)Kate Higgins (Sexy Technique) (episode 229)Why Naruto Wears Orange ?Naruto wears Orange colour because It is associated with joy, sunshine, and the tropics.It also represents enthusiasm, attraction, happiness, encouragement, creativity, determination, fascination, success, and stimulation.He wears orange because people will probably notice that colour, as it’s eye-catching.Why Does Naruto Always Say Dattebayo ?“Dattebayo” or “Believe It” is Naruto’s catchphrase which he used in most of his sentences. This created a way of making Naruto’s speech more distinctive and unique.Dattebayo (Believe it) did not come through any culture or tradition, whereas it is to be noted that he inherited this from his mother.Kushina Uzumaki used to say Dattebane (You know) at moments when she got Excited or Angry.Kushina hoped her son (Naruto) would not inherit this habit from her but He actually did.Why Naruto is the Best Character ?Naruto is one of the Greatest Protagonists because he shows the qualities of an Ideal human being.He shows us true value of perseverence, never giving up, hard work and everything in between.Naruto is also the best character because of his warm heart and desire to create Peace.Why Naruto has Whiskers ?Naruto got whiskers around his face due to the influence of Kurama (9-Tails) when he was in Kushina’s womb.Were Naruto and Sasuke supposed to be Together ?Almost Everyone wants to put Sasuke and Naruto in lovers relationship, but that’s not what was planned in Anime nor Manga.Despite all theories saying Naruto & Sasuke were meant to be Together, I’ve a bit different view.Naruto & Sasuke were not meant to be together. This is because, although they were best friends (and rivals) but they were actually meant to be siblings.Masashi Kishimoto (Writer of Naruto) actually created Naruto as Protagonist and didn’t condsider adding Sasuke to Manga until someone suggested him to create a Rival of Naruto (that would spice up the story).That’s when Naruto and Sasuke became rivals.They were actually meant to be siblings because of them being reincarnations of Ashura & Indra (who were basically brothers).So, Naruto and Sasuke were always meant to be Rivals and not lovers, that sums up everything there it to it.Were Naruto and Sakura supposed to be Together ?No, Naruto and Sakura were not supposed to be together. Instead, Sasuke and Sakura were meant to be together.At the start of Naruto anime, Sakura’s affection for Sasuke and Hinata’s affection for Naruto is shown.At that moment, it had been decided these two couples will end up together.That’s not the only time where it is shown who they love, proofs and hints are present in the whole Anime.That brings us to the next Question.Why Naruto is not Namikaze ?Naruto belongs to Uzumaki Clan and called “Naruto Uzumaki” because there is a meaning behind it.During the Third Shinobi War, Minato had gained several enemies, They didn’t want to lose a chance to get revenge from Minato.After Minato’s death, Naruto was given Uzumaki name instead of Namikaze to prevent him from the enemies and foes of Minato Namikaze.That’s why Naruto was named Uzumaki and not Namikaze.Are Naruto and Karin Related ?Naruto and Karin are related to each other becuase of the Clan. They both belong to clan Uzumaki.Karin’s hair also relate in colour to Naruto’s Mother (Kushina’s) Hairs.Can Naruto use Genjutsu ?Yes, Naruto can use Genjutsu but he was never shown using it in Naruto or Naruto Shippuden.However, According to Fans, Naruto used a Simple Genjutsu in Boruto against Shin Uchiha. It was not mainly a Genjutsu but simply a sight of Unlocked Kurama inside Naruto which Feared Shin.Can Naruto Fly ?Yes.Naruto COULD fly.But there are limitations to it. He can only fly in Six Paths and Six Paths Sage Mode (SPSM) when he has Truth seeking orbs.Can Naruto still Fly ?No, Naruto could Fly when he had Six Paths Chakra and Truth Seeking Orbs. But in Bijuu Mode, he can’t fly.Why Naruto is so Good ?It is a result of the amazing character advancement they have centered after, during the entire series up until this point.All fundamental characters depicted in Naruto have their own story.\n"
     ]
    }
   ],
   "source": [
    "import re\n",
    "\n",
    "# Defining the start and end patterns to filter webpage_text\n",
    "start_pattern = r'When is Naruto’s Birthday \\?20 Answers to the Most Frequently Asked Questions About NarutoNaruto’s Birthday is on October 10th\\.'\n",
    "end_pattern = r'They don’t simply come and go away\\.This character improvement, ties the watchers with the story\\.'\n",
    "\n",
    "# filtering using regular expression\n",
    "match = re.search(f'{start_pattern}(.*?){end_pattern}', webpage_text, re.DOTALL)\n",
    "\n",
    "# Checking if a match is found\n",
    "if match:\n",
    "    extracted_text = match.group(1).strip()\n",
    "    print(extracted_text)\n",
    "else:\n",
    "    print(\"No match found.\")\n"
   ]
  },
  {
   "cell_type": "code",
   "execution_count": 6,
   "metadata": {},
   "outputs": [
    {
     "data": {
      "text/plain": [
       "'What is Naruto’s Age ?In Simple Naruto Anime, his age is 12–13 Years.In Naruto Shippuden Anime, his age is 15–17 Years.What was Naruto’s Age When He Graduated From Ninja Academy ?When Naruto Graduated from Ninja Academy, his age was 12 Years.As he grew older, he became a Moral and sensible man.What is Naruto’s Height ?In Simple Naruto Anime, his Height is 145.3 to 147.5 cm or 57.2–58 inches (4.7–4.8 Feet).In Naruto Shippuden, his height is 166 cm or 65.3 inches (5.44 Feet).At the End of Naruto Shippuden or start of Boruto, his height is 180 cm (almost 6 Feet).What is Naruto’s Weight ?In Simple Naruto Anime, his weight is 40.1 kg–40.6 kg.In Naruto Shippuden, his Weight is 50.9 kg.What is Naruto’s Blood Type ?His Blood Type is B.Who Voices Naruto in Japanese ?Junko Takeuchi & Ema Kogure Voice Naruto in Japenese.Who Voices Naruto in English ?Mainly, Maile Flanagan Voice Naruto in English.Other People who voice Naruto at Specific Moments are:Stephanie Sheh Icon (Sexy Technique)Jeannie Elias (Sexy Technique) (episode 53-55)Mary Elizabeth McGlynn\\xa0(Sexy Technique) (episode 177)Kate Higgins (Sexy Technique) (episode 229)Why Naruto Wears Orange ?Naruto wears Orange colour because It is associated with joy, sunshine, and the tropics.It also represents enthusiasm, attraction, happiness, encouragement, creativity, determination, fascination, success, and stimulation.He wears orange because people will probably notice that colour, as it’s eye-catching.Why Does Naruto Always Say Dattebayo ?“Dattebayo” or “Believe It” is Naruto’s catchphrase which he used in most of his sentences. This created a way of making Naruto’s speech more distinctive and unique.Dattebayo (Believe it) did not come through any culture or tradition, whereas it is to be noted that he inherited this from his mother.Kushina Uzumaki used to say Dattebane (You know) at moments when she got Excited or Angry.Kushina hoped her son (Naruto) would not inherit this habit from her but He actually did.Why Naruto is the Best Character ?Naruto is one of the Greatest Protagonists because he shows the qualities of an Ideal human being.He shows us true value of perseverence, never giving up, hard work and everything in between.Naruto is also the best character because of his warm heart and desire to create Peace.Why Naruto has Whiskers ?Naruto got whiskers around his face due to the influence of Kurama (9-Tails) when he was in Kushina’s womb.Were Naruto and Sasuke supposed to be Together ?Almost Everyone wants to put Sasuke and Naruto in lovers relationship, but that’s not what was planned in Anime nor Manga.Despite all theories saying Naruto & Sasuke were meant to be Together, I’ve a bit different view.Naruto & Sasuke were not meant to be together. This is because, although they were best friends (and rivals) but they were actually meant to be siblings.Masashi Kishimoto (Writer of Naruto) actually created Naruto as Protagonist and didn’t condsider adding Sasuke to Manga until someone suggested him to create a Rival of Naruto (that would spice up the story).That’s when Naruto and Sasuke became rivals.They were actually meant to be siblings because of them being reincarnations of Ashura & Indra (who were basically brothers).So, Naruto and Sasuke were always meant to be Rivals and not lovers, that sums up everything there it to it.Were Naruto and Sakura supposed to be Together ?No, Naruto and Sakura were not supposed to be together. Instead, Sasuke and Sakura were meant to be together.At the start of Naruto anime, Sakura’s affection for Sasuke and Hinata’s affection for Naruto is shown.At that moment, it had been decided these two couples will end up together.That’s not the only time where it is shown who they love, proofs and hints are present in the whole Anime.That brings us to the next Question.Why Naruto is not Namikaze ?Naruto belongs to Uzumaki Clan and called “Naruto Uzumaki” because there is a meaning behind it.During the Third Shinobi War, Minato had gained several enemies, They didn’t want to lose a chance to get revenge from Minato.After Minato’s death, Naruto was given Uzumaki name instead of Namikaze to prevent him from the enemies and foes of Minato Namikaze.That’s why Naruto was named Uzumaki and not Namikaze.Are Naruto and Karin Related ?Naruto and Karin are related to each other becuase of the Clan. They both belong to clan Uzumaki.Karin’s hair also relate in colour to Naruto’s Mother (Kushina’s) Hairs.Can Naruto use Genjutsu ?Yes, Naruto can use Genjutsu but he was never shown using it in Naruto or Naruto Shippuden.However, According to Fans, Naruto used a Simple Genjutsu in Boruto against Shin Uchiha. It was not mainly a Genjutsu but simply a sight of Unlocked Kurama inside Naruto which Feared Shin.Can Naruto Fly ?Yes.Naruto COULD fly.But there are limitations to it. He can only fly in Six Paths and Six Paths Sage Mode (SPSM) when he has Truth seeking orbs.Can Naruto still Fly ?No, Naruto could Fly when he had Six Paths Chakra and Truth Seeking Orbs. But in Bijuu Mode, he can’t fly.Why Naruto is so Good ?It is a result of the amazing character advancement they have centered after, during the entire series up until this point.All fundamental characters depicted in Naruto have their own story.'"
      ]
     },
     "execution_count": 6,
     "metadata": {},
     "output_type": "execute_result"
    }
   ],
   "source": [
    "extracted_text"
   ]
  },
  {
   "cell_type": "code",
   "execution_count": 7,
   "metadata": {},
   "outputs": [
    {
     "data": {
      "text/plain": [
       "['What is Naruto’s Age ',\n",
       " 'In Simple Naruto Anime, his age is 12–13 Years.In Naruto Shippuden Anime, his age is 15–17 Years.What was Naruto’s Age When He Graduated From Ninja Academy ',\n",
       " 'When Naruto Graduated from Ninja Academy, his age was 12 Years.As he grew older, he became a Moral and sensible man.What is Naruto’s Height ',\n",
       " 'In Simple Naruto Anime, his Height is 145.3 to 147.5 cm or 57.2–58 inches (4.7–4.8 Feet).In Naruto Shippuden, his height is 166 cm or 65.3 inches (5.44 Feet).At the End of Naruto Shippuden or start of Boruto, his height is 180 cm (almost 6 Feet).What is Naruto’s Weight ',\n",
       " 'In Simple Naruto Anime, his weight is 40.1 kg–40.6 kg.In Naruto Shippuden, his Weight is 50.9 kg.What is Naruto’s Blood Type ',\n",
       " 'His Blood Type is B.Who Voices Naruto in Japanese ',\n",
       " 'Junko Takeuchi & Ema Kogure Voice Naruto in Japenese.Who Voices Naruto in English ',\n",
       " 'Mainly, Maile Flanagan Voice Naruto in English.Other People who voice Naruto at Specific Moments are:Stephanie Sheh Icon (Sexy Technique)Jeannie Elias (Sexy Technique) (episode 53-55)Mary Elizabeth McGlynn\\xa0(Sexy Technique) (episode 177)Kate Higgins (Sexy Technique) (episode 229)Why Naruto Wears Orange ',\n",
       " 'Naruto wears Orange colour because It is associated with joy, sunshine, and the tropics.It also represents enthusiasm, attraction, happiness, encouragement, creativity, determination, fascination, success, and stimulation.He wears orange because people will probably notice that colour, as it’s eye-catching.Why Does Naruto Always Say Dattebayo ',\n",
       " '“Dattebayo” or “Believe It” is Naruto’s catchphrase which he used in most of his sentences. This created a way of making Naruto’s speech more distinctive and unique.Dattebayo (Believe it) did not come through any culture or tradition, whereas it is to be noted that he inherited this from his mother.Kushina Uzumaki used to say Dattebane (You know) at moments when she got Excited or Angry.Kushina hoped her son (Naruto) would not inherit this habit from her but He actually did.Why Naruto is the Best Character ',\n",
       " 'Naruto is one of the Greatest Protagonists because he shows the qualities of an Ideal human being.He shows us true value of perseverence, never giving up, hard work and everything in between.Naruto is also the best character because of his warm heart and desire to create Peace.Why Naruto has Whiskers ',\n",
       " 'Naruto got whiskers around his face due to the influence of Kurama (9-Tails) when he was in Kushina’s womb.Were Naruto and Sasuke supposed to be Together ',\n",
       " 'Almost Everyone wants to put Sasuke and Naruto in lovers relationship, but that’s not what was planned in Anime nor Manga.Despite all theories saying Naruto & Sasuke were meant to be Together, I’ve a bit different view.Naruto & Sasuke were not meant to be together. This is because, although they were best friends (and rivals) but they were actually meant to be siblings.Masashi Kishimoto (Writer of Naruto) actually created Naruto as Protagonist and didn’t condsider adding Sasuke to Manga until someone suggested him to create a Rival of Naruto (that would spice up the story).That’s when Naruto and Sasuke became rivals.They were actually meant to be siblings because of them being reincarnations of Ashura & Indra (who were basically brothers).So, Naruto and Sasuke were always meant to be Rivals and not lovers, that sums up everything there it to it.Were Naruto and Sakura supposed to be Together ',\n",
       " 'No, Naruto and Sakura were not supposed to be together. Instead, Sasuke and Sakura were meant to be together.At the start of Naruto anime, Sakura’s affection for Sasuke and Hinata’s affection for Naruto is shown.At that moment, it had been decided these two couples will end up together.That’s not the only time where it is shown who they love, proofs and hints are present in the whole Anime.That brings us to the next Question.Why Naruto is not Namikaze ',\n",
       " 'Naruto belongs to Uzumaki Clan and called “Naruto Uzumaki” because there is a meaning behind it.During the Third Shinobi War, Minato had gained several enemies, They didn’t want to lose a chance to get revenge from Minato.After Minato’s death, Naruto was given Uzumaki name instead of Namikaze to prevent him from the enemies and foes of Minato Namikaze.That’s why Naruto was named Uzumaki and not Namikaze.Are Naruto and Karin Related ',\n",
       " 'Naruto and Karin are related to each other becuase of the Clan. They both belong to clan Uzumaki.Karin’s hair also relate in colour to Naruto’s Mother (Kushina’s) Hairs.Can Naruto use Genjutsu ',\n",
       " 'Yes, Naruto can use Genjutsu but he was never shown using it in Naruto or Naruto Shippuden.However, According to Fans, Naruto used a Simple Genjutsu in Boruto against Shin Uchiha. It was not mainly a Genjutsu but simply a sight of Unlocked Kurama inside Naruto which Feared Shin.Can Naruto Fly ',\n",
       " 'Yes.Naruto COULD fly.But there are limitations to it. He can only fly in Six Paths and Six Paths Sage Mode (SPSM) when he has Truth seeking orbs.Can Naruto still Fly ',\n",
       " 'No, Naruto could Fly when he had Six Paths Chakra and Truth Seeking Orbs. But in Bijuu Mode, he can’t fly.Why Naruto is so Good ',\n",
       " 'It is a result of the amazing character advancement they have centered after, during the entire series up until this point.All fundamental characters depicted in Naruto have their own story.']"
      ]
     },
     "execution_count": 7,
     "metadata": {},
     "output_type": "execute_result"
    }
   ],
   "source": [
    "# Splitting into paragraphs using (?)\n",
    "paragraphs = re.split(r'\\?\\s*', extracted_text)\n",
    "\n",
    "paragraphs"
   ]
  },
  {
   "cell_type": "code",
   "execution_count": 8,
   "metadata": {},
   "outputs": [
    {
     "name": "stdout",
     "output_type": "stream",
     "text": [
      "What is Naruto’s Age?\n",
      "In Simple Naruto Anime, his age is 12–13 Years.In Naruto Shippuden Anime, his age is 15–17 Years.What was Naruto’s Age When He Graduated From Ninja Academy?\n",
      "When Naruto Graduated from Ninja Academy, his age was 12 Years.As he grew older, he became a Moral and sensible man.What is Naruto’s Height?\n",
      "In Simple Naruto Anime, his Height is 145.3 to 147.5 cm or 57.2–58 inches (4.7–4.8 Feet).In Naruto Shippuden, his height is 166 cm or 65.3 inches (5.44 Feet).At the End of Naruto Shippuden or start of Boruto, his height is 180 cm (almost 6 Feet).What is Naruto’s Weight?\n",
      "In Simple Naruto Anime, his weight is 40.1 kg–40.6 kg.In Naruto Shippuden, his Weight is 50.9 kg.What is Naruto’s Blood Type?\n",
      "His Blood Type is B.Who Voices Naruto in Japanese?\n",
      "Junko Takeuchi & Ema Kogure Voice Naruto in Japenese.Who Voices Naruto in English?\n",
      "Mainly, Maile Flanagan Voice Naruto in English.Other People who voice Naruto at Specific Moments are:Stephanie Sheh Icon (Sexy Technique)Jeannie Elias (Sexy Technique) (episode 53-55)Mary Elizabeth McGlynn (Sexy Technique) (episode 177)Kate Higgins (Sexy Technique) (episode 229)Why Naruto Wears Orange?\n",
      "Naruto wears Orange colour because It is associated with joy, sunshine, and the tropics.It also represents enthusiasm, attraction, happiness, encouragement, creativity, determination, fascination, success, and stimulation.He wears orange because people will probably notice that colour, as it’s eye-catching.Why Does Naruto Always Say Dattebayo?\n",
      "“Dattebayo” or “Believe It” is Naruto’s catchphrase which he used in most of his sentences. This created a way of making Naruto’s speech more distinctive and unique.Dattebayo (Believe it) did not come through any culture or tradition, whereas it is to be noted that he inherited this from his mother.Kushina Uzumaki used to say Dattebane (You know) at moments when she got Excited or Angry.Kushina hoped her son (Naruto) would not inherit this habit from her but He actually did.Why Naruto is the Best Character?\n",
      "Naruto is one of the Greatest Protagonists because he shows the qualities of an Ideal human being.He shows us true value of perseverence, never giving up, hard work and everything in between.Naruto is also the best character because of his warm heart and desire to create Peace.Why Naruto has Whiskers?\n",
      "Naruto got whiskers around his face due to the influence of Kurama (9-Tails) when he was in Kushina’s womb.Were Naruto and Sasuke supposed to be Together?\n",
      "Almost Everyone wants to put Sasuke and Naruto in lovers relationship, but that’s not what was planned in Anime nor Manga.Despite all theories saying Naruto & Sasuke were meant to be Together, I’ve a bit different view.Naruto & Sasuke were not meant to be together. This is because, although they were best friends (and rivals) but they were actually meant to be siblings.Masashi Kishimoto (Writer of Naruto) actually created Naruto as Protagonist and didn’t condsider adding Sasuke to Manga until someone suggested him to create a Rival of Naruto (that would spice up the story).That’s when Naruto and Sasuke became rivals.They were actually meant to be siblings because of them being reincarnations of Ashura & Indra (who were basically brothers).So, Naruto and Sasuke were always meant to be Rivals and not lovers, that sums up everything there it to it.Were Naruto and Sakura supposed to be Together?\n",
      "No, Naruto and Sakura were not supposed to be together. Instead, Sasuke and Sakura were meant to be together.At the start of Naruto anime, Sakura’s affection for Sasuke and Hinata’s affection for Naruto is shown.At that moment, it had been decided these two couples will end up together.That’s not the only time where it is shown who they love, proofs and hints are present in the whole Anime.That brings us to the next Question.Why Naruto is not Namikaze?\n",
      "Naruto belongs to Uzumaki Clan and called “Naruto Uzumaki” because there is a meaning behind it.During the Third Shinobi War, Minato had gained several enemies, They didn’t want to lose a chance to get revenge from Minato.After Minato’s death, Naruto was given Uzumaki name instead of Namikaze to prevent him from the enemies and foes of Minato Namikaze.That’s why Naruto was named Uzumaki and not Namikaze.Are Naruto and Karin Related?\n",
      "Naruto and Karin are related to each other becuase of the Clan. They both belong to clan Uzumaki.Karin’s hair also relate in colour to Naruto’s Mother (Kushina’s) Hairs.Can Naruto use Genjutsu?\n",
      "Yes, Naruto can use Genjutsu but he was never shown using it in Naruto or Naruto Shippuden.However, According to Fans, Naruto used a Simple Genjutsu in Boruto against Shin Uchiha. It was not mainly a Genjutsu but simply a sight of Unlocked Kurama inside Naruto which Feared Shin.Can Naruto Fly?\n",
      "Yes.Naruto COULD fly.But there are limitations to it. He can only fly in Six Paths and Six Paths Sage Mode (SPSM) when he has Truth seeking orbs.Can Naruto still Fly?\n",
      "No, Naruto could Fly when he had Six Paths Chakra and Truth Seeking Orbs. But in Bijuu Mode, he can’t fly.Why Naruto is so Good?\n",
      "It is a result of the amazing character advancement they have centered after, during the entire series up until this point.All fundamental characters depicted in Naruto have their own story.\n"
     ]
    }
   ],
   "source": [
    "#adding (?) to each list of strings except the last one\n",
    "paragraphs = [s.strip() + '?' if i < len(paragraphs) - 1 else s.strip() for i, s in enumerate(paragraphs)]\n",
    "\n",
    "# Displaying the result\n",
    "for s in paragraphs:\n",
    "    print(s)"
   ]
  },
  {
   "cell_type": "code",
   "execution_count": 9,
   "metadata": {},
   "outputs": [
    {
     "data": {
      "text/plain": [
       "['In Simple Naruto Anime, his age is 12–13 Years.In Naruto Shippuden Anime, his age is 15–17 Years.',\n",
       " 'What was Naruto’s Age When He Graduated From Ninja Academy?',\n",
       " 'When Naruto Graduated from Ninja Academy, his age was 12 Years.As he grew older, he became a Moral and sensible man.',\n",
       " 'What is Naruto’s Height?',\n",
       " 'In Simple Naruto Anime, his Height is 145.3 to 147.5 cm or 57.2–58 inches (4.7–4.8 Feet).In Naruto Shippuden, his height is 166 cm or 65.3 inches (5.44 Feet).At the End of Naruto Shippuden or start of Boruto, his height is 180 cm (almost 6 Feet).',\n",
       " 'What is Naruto’s Weight?',\n",
       " 'In Simple Naruto Anime, his weight is 40.1 kg–40.6 kg.In Naruto Shippuden, his Weight is 50.9 kg.',\n",
       " 'What is Naruto’s Blood Type?',\n",
       " 'His Blood Type is B.',\n",
       " 'Who Voices Naruto in Japanese?',\n",
       " 'Junko Takeuchi & Ema Kogure Voice Naruto in Japenese.',\n",
       " 'Who Voices Naruto in English?',\n",
       " 'Mainly, Maile Flanagan Voice Naruto in English.',\n",
       " 'Other People who voice Naruto at Specific Moments are:Stephanie Sheh Icon (Sexy Technique)Jeannie Elias (Sexy Technique) (episode 53-55)Mary Elizabeth McGlynn\\xa0(Sexy Technique) (episode 177)Kate Higgins (Sexy Technique) (episode 229)Why Naruto Wears Orange?',\n",
       " 'Naruto wears Orange colour because It is associated with joy, sunshine, and the tropics.It also represents enthusiasm, attraction, happiness, encouragement, creativity, determination, fascination, success, and stimulation.He wears orange because people will probably notice that colour, as it’s eye-catching.',\n",
       " 'Why Does Naruto Always Say Dattebayo?',\n",
       " '“Dattebayo” or “Believe It” is Naruto’s catchphrase which he used in most of his sentences. This created a way of making Naruto’s speech more distinctive and unique.Dattebayo (Believe it) did not come through any culture or tradition, whereas it is to be noted that he inherited this from his mother.Kushina Uzumaki used to say Dattebane (You know) at moments when she got Excited or Angry.Kushina hoped her son (Naruto) would not inherit this habit from her but He actually did.',\n",
       " 'Why Naruto is the Best Character?',\n",
       " 'Naruto is one of the Greatest Protagonists because he shows the qualities of an Ideal human being.He shows us true value of perseverence, never giving up, hard work and everything in between.Naruto is also the best character because of his warm heart and desire to create Peace.',\n",
       " 'Why Naruto has Whiskers?',\n",
       " 'Naruto got whiskers around his face due to the influence of Kurama (9-Tails) when he was in Kushina’s womb.',\n",
       " 'Were Naruto and Sasuke supposed to be Together?',\n",
       " 'Almost Everyone wants to put Sasuke and Naruto in lovers relationship, but that’s not what was planned in Anime nor Manga.Despite all theories saying Naruto & Sasuke were meant to be Together, I’ve a bit different view.Naruto & Sasuke were not meant to be together. This is because, although they were best friends (and rivals) but they were actually meant to be siblings.Masashi Kishimoto (Writer of Naruto) actually created Naruto as Protagonist and didn’t condsider adding Sasuke to Manga until someone suggested him to create a Rival of Naruto (that would spice up the story).That’s when Naruto and Sasuke became rivals.They were actually meant to be siblings because of them being reincarnations of Ashura & Indra (who were basically brothers).So, Naruto and Sasuke were always meant to be Rivals and not lovers, that sums up everything there it to it.',\n",
       " 'Were Naruto and Sakura supposed to be Together?',\n",
       " 'No, Naruto and Sakura were not supposed to be together. Instead, Sasuke and Sakura were meant to be together.At the start of Naruto anime, Sakura’s affection for Sasuke and Hinata’s affection for Naruto is shown.At that moment, it had been decided these two couples will end up together.That’s not the only time where it is shown who they love, proofs and hints are present in the whole Anime.That brings us to the next Question.',\n",
       " 'Why Naruto is not Namikaze?',\n",
       " 'Naruto belongs to Uzumaki Clan and called “Naruto Uzumaki” because there is a meaning behind it.During the Third Shinobi War, Minato had gained several enemies, They didn’t want to lose a chance to get revenge from Minato.After Minato’s death, Naruto was given Uzumaki name instead of Namikaze to prevent him from the enemies and foes of Minato Namikaze.That’s why Naruto was named Uzumaki and not Namikaze.',\n",
       " 'Are Naruto and Karin Related?',\n",
       " 'Naruto and Karin are related to each other becuase of the Clan. They both belong to clan Uzumaki.Karin’s hair also relate in colour to Naruto’s Mother (Kushina’s) Hairs.',\n",
       " 'Can Naruto use Genjutsu?',\n",
       " 'Yes, Naruto can use Genjutsu but he was never shown using it in Naruto or Naruto Shippuden.However, According to Fans, Naruto used a Simple Genjutsu in Boruto against Shin Uchiha. It was not mainly a Genjutsu but simply a sight of Unlocked Kurama inside Naruto which Feared Shin.',\n",
       " 'Can Naruto Fly?',\n",
       " 'Yes.Naruto COULD fly.But there are limitations to it. He can only fly in Six Paths and Six Paths Sage Mode (SPSM) when he has Truth seeking orbs.',\n",
       " 'Can Naruto still Fly?',\n",
       " 'No, Naruto could Fly when he had Six Paths Chakra and Truth Seeking Orbs. But in Bijuu Mode, he can’t fly.',\n",
       " 'Why Naruto is so Good?']"
      ]
     },
     "execution_count": 9,
     "metadata": {},
     "output_type": "execute_result"
    }
   ],
   "source": [
    "#creating a func to split one string into two as ans to former question and next questions are in one string\n",
    "def split_strings_at_last_period(strings):\n",
    "    result = []\n",
    "    for text in strings:\n",
    "        index_last_period = text.rfind('.')\n",
    "        first_part = text[:index_last_period + 1].strip()\n",
    "        second_part = text[index_last_period + 1:].strip()\n",
    "        result.extend([first_part, second_part])\n",
    "    return result\n",
    "\n",
    "sub_para = paragraphs[1:-1]\n",
    "\n",
    "result_list = split_strings_at_last_period(sub_para)\n",
    "\n",
    "result_list"
   ]
  },
  {
   "cell_type": "code",
   "execution_count": 10,
   "metadata": {},
   "outputs": [
    {
     "data": {
      "text/plain": [
       "['What is Naruto’s Age?',\n",
       " 'In Simple Naruto Anime, his age is 12–13 Years.In Naruto Shippuden Anime, his age is 15–17 Years.',\n",
       " 'What was Naruto’s Age When He Graduated From Ninja Academy?',\n",
       " 'When Naruto Graduated from Ninja Academy, his age was 12 Years.As he grew older, he became a Moral and sensible man.',\n",
       " 'What is Naruto’s Height?',\n",
       " 'In Simple Naruto Anime, his Height is 145.3 to 147.5 cm or 57.2–58 inches (4.7–4.8 Feet).In Naruto Shippuden, his height is 166 cm or 65.3 inches (5.44 Feet).At the End of Naruto Shippuden or start of Boruto, his height is 180 cm (almost 6 Feet).',\n",
       " 'What is Naruto’s Weight?',\n",
       " 'In Simple Naruto Anime, his weight is 40.1 kg–40.6 kg.In Naruto Shippuden, his Weight is 50.9 kg.',\n",
       " 'What is Naruto’s Blood Type?',\n",
       " 'His Blood Type is B.',\n",
       " 'Who Voices Naruto in Japanese?',\n",
       " 'Junko Takeuchi & Ema Kogure Voice Naruto in Japenese.',\n",
       " 'Who Voices Naruto in English?',\n",
       " 'Mainly, Maile Flanagan Voice Naruto in English.',\n",
       " 'Other People who voice Naruto at Specific Moments are:Stephanie Sheh Icon (Sexy Technique)Jeannie Elias (Sexy Technique) (episode 53-55)Mary Elizabeth McGlynn\\xa0(Sexy Technique) (episode 177)Kate Higgins (Sexy Technique) (episode 229)Why Naruto Wears Orange?',\n",
       " 'Naruto wears Orange colour because It is associated with joy, sunshine, and the tropics.It also represents enthusiasm, attraction, happiness, encouragement, creativity, determination, fascination, success, and stimulation.He wears orange because people will probably notice that colour, as it’s eye-catching.',\n",
       " 'Why Does Naruto Always Say Dattebayo?',\n",
       " '“Dattebayo” or “Believe It” is Naruto’s catchphrase which he used in most of his sentences. This created a way of making Naruto’s speech more distinctive and unique.Dattebayo (Believe it) did not come through any culture or tradition, whereas it is to be noted that he inherited this from his mother.Kushina Uzumaki used to say Dattebane (You know) at moments when she got Excited or Angry.Kushina hoped her son (Naruto) would not inherit this habit from her but He actually did.',\n",
       " 'Why Naruto is the Best Character?',\n",
       " 'Naruto is one of the Greatest Protagonists because he shows the qualities of an Ideal human being.He shows us true value of perseverence, never giving up, hard work and everything in between.Naruto is also the best character because of his warm heart and desire to create Peace.',\n",
       " 'Why Naruto has Whiskers?',\n",
       " 'Naruto got whiskers around his face due to the influence of Kurama (9-Tails) when he was in Kushina’s womb.',\n",
       " 'Were Naruto and Sasuke supposed to be Together?',\n",
       " 'Almost Everyone wants to put Sasuke and Naruto in lovers relationship, but that’s not what was planned in Anime nor Manga.Despite all theories saying Naruto & Sasuke were meant to be Together, I’ve a bit different view.Naruto & Sasuke were not meant to be together. This is because, although they were best friends (and rivals) but they were actually meant to be siblings.Masashi Kishimoto (Writer of Naruto) actually created Naruto as Protagonist and didn’t condsider adding Sasuke to Manga until someone suggested him to create a Rival of Naruto (that would spice up the story).That’s when Naruto and Sasuke became rivals.They were actually meant to be siblings because of them being reincarnations of Ashura & Indra (who were basically brothers).So, Naruto and Sasuke were always meant to be Rivals and not lovers, that sums up everything there it to it.',\n",
       " 'Were Naruto and Sakura supposed to be Together?',\n",
       " 'No, Naruto and Sakura were not supposed to be together. Instead, Sasuke and Sakura were meant to be together.At the start of Naruto anime, Sakura’s affection for Sasuke and Hinata’s affection for Naruto is shown.At that moment, it had been decided these two couples will end up together.That’s not the only time where it is shown who they love, proofs and hints are present in the whole Anime.That brings us to the next Question.',\n",
       " 'Why Naruto is not Namikaze?',\n",
       " 'Naruto belongs to Uzumaki Clan and called “Naruto Uzumaki” because there is a meaning behind it.During the Third Shinobi War, Minato had gained several enemies, They didn’t want to lose a chance to get revenge from Minato.After Minato’s death, Naruto was given Uzumaki name instead of Namikaze to prevent him from the enemies and foes of Minato Namikaze.That’s why Naruto was named Uzumaki and not Namikaze.',\n",
       " 'Are Naruto and Karin Related?',\n",
       " 'Naruto and Karin are related to each other becuase of the Clan. They both belong to clan Uzumaki.Karin’s hair also relate in colour to Naruto’s Mother (Kushina’s) Hairs.',\n",
       " 'Can Naruto use Genjutsu?',\n",
       " 'Yes, Naruto can use Genjutsu but he was never shown using it in Naruto or Naruto Shippuden.However, According to Fans, Naruto used a Simple Genjutsu in Boruto against Shin Uchiha. It was not mainly a Genjutsu but simply a sight of Unlocked Kurama inside Naruto which Feared Shin.',\n",
       " 'Can Naruto Fly?',\n",
       " 'Yes.Naruto COULD fly.But there are limitations to it. He can only fly in Six Paths and Six Paths Sage Mode (SPSM) when he has Truth seeking orbs.',\n",
       " 'Can Naruto still Fly?',\n",
       " 'No, Naruto could Fly when he had Six Paths Chakra and Truth Seeking Orbs. But in Bijuu Mode, he can’t fly.',\n",
       " 'Why Naruto is so Good?',\n",
       " 'It is a result of the amazing character advancement they have centered after, during the entire series up until this point.All fundamental characters depicted in Naruto have their own story.']"
      ]
     },
     "execution_count": 10,
     "metadata": {},
     "output_type": "execute_result"
    }
   ],
   "source": [
    "#adding 1st question string and last answer string into the list\n",
    "qa_list=[paragraphs[0]]+result_list+[paragraphs[-1]]\n",
    "qa_list"
   ]
  },
  {
   "cell_type": "code",
   "execution_count": 11,
   "metadata": {},
   "outputs": [
    {
     "data": {
      "text/plain": [
       "38"
      ]
     },
     "execution_count": 11,
     "metadata": {},
     "output_type": "execute_result"
    }
   ],
   "source": [
    "len(qa_list)"
   ]
  },
  {
   "cell_type": "code",
   "execution_count": 12,
   "metadata": {},
   "outputs": [
    {
     "data": {
      "text/plain": [
       "[('What is Naruto’s Age?',\n",
       "  'In Simple Naruto Anime, his age is 12–13 Years.In Naruto Shippuden Anime, his age is 15–17 Years.'),\n",
       " ('What was Naruto’s Age When He Graduated From Ninja Academy?',\n",
       "  'When Naruto Graduated from Ninja Academy, his age was 12 Years.As he grew older, he became a Moral and sensible man.'),\n",
       " ('What is Naruto’s Height?',\n",
       "  'In Simple Naruto Anime, his Height is 145.3 to 147.5 cm or 57.2–58 inches (4.7–4.8 Feet).In Naruto Shippuden, his height is 166 cm or 65.3 inches (5.44 Feet).At the End of Naruto Shippuden or start of Boruto, his height is 180 cm (almost 6 Feet).'),\n",
       " ('What is Naruto’s Weight?',\n",
       "  'In Simple Naruto Anime, his weight is 40.1 kg–40.6 kg.In Naruto Shippuden, his Weight is 50.9 kg.'),\n",
       " ('What is Naruto’s Blood Type?', 'His Blood Type is B.'),\n",
       " ('Who Voices Naruto in Japanese?',\n",
       "  'Junko Takeuchi & Ema Kogure Voice Naruto in Japenese.'),\n",
       " ('Who Voices Naruto in English?',\n",
       "  'Mainly, Maile Flanagan Voice Naruto in English.'),\n",
       " ('Other People who voice Naruto at Specific Moments are:Stephanie Sheh Icon (Sexy Technique)Jeannie Elias (Sexy Technique) (episode 53-55)Mary Elizabeth McGlynn\\xa0(Sexy Technique) (episode 177)Kate Higgins (Sexy Technique) (episode 229)Why Naruto Wears Orange?',\n",
       "  'Naruto wears Orange colour because It is associated with joy, sunshine, and the tropics.It also represents enthusiasm, attraction, happiness, encouragement, creativity, determination, fascination, success, and stimulation.He wears orange because people will probably notice that colour, as it’s eye-catching.'),\n",
       " ('Why Does Naruto Always Say Dattebayo?',\n",
       "  '“Dattebayo” or “Believe It” is Naruto’s catchphrase which he used in most of his sentences. This created a way of making Naruto’s speech more distinctive and unique.Dattebayo (Believe it) did not come through any culture or tradition, whereas it is to be noted that he inherited this from his mother.Kushina Uzumaki used to say Dattebane (You know) at moments when she got Excited or Angry.Kushina hoped her son (Naruto) would not inherit this habit from her but He actually did.'),\n",
       " ('Why Naruto is the Best Character?',\n",
       "  'Naruto is one of the Greatest Protagonists because he shows the qualities of an Ideal human being.He shows us true value of perseverence, never giving up, hard work and everything in between.Naruto is also the best character because of his warm heart and desire to create Peace.'),\n",
       " ('Why Naruto has Whiskers?',\n",
       "  'Naruto got whiskers around his face due to the influence of Kurama (9-Tails) when he was in Kushina’s womb.'),\n",
       " ('Were Naruto and Sasuke supposed to be Together?',\n",
       "  'Almost Everyone wants to put Sasuke and Naruto in lovers relationship, but that’s not what was planned in Anime nor Manga.Despite all theories saying Naruto & Sasuke were meant to be Together, I’ve a bit different view.Naruto & Sasuke were not meant to be together. This is because, although they were best friends (and rivals) but they were actually meant to be siblings.Masashi Kishimoto (Writer of Naruto) actually created Naruto as Protagonist and didn’t condsider adding Sasuke to Manga until someone suggested him to create a Rival of Naruto (that would spice up the story).That’s when Naruto and Sasuke became rivals.They were actually meant to be siblings because of them being reincarnations of Ashura & Indra (who were basically brothers).So, Naruto and Sasuke were always meant to be Rivals and not lovers, that sums up everything there it to it.'),\n",
       " ('Were Naruto and Sakura supposed to be Together?',\n",
       "  'No, Naruto and Sakura were not supposed to be together. Instead, Sasuke and Sakura were meant to be together.At the start of Naruto anime, Sakura’s affection for Sasuke and Hinata’s affection for Naruto is shown.At that moment, it had been decided these two couples will end up together.That’s not the only time where it is shown who they love, proofs and hints are present in the whole Anime.That brings us to the next Question.'),\n",
       " ('Why Naruto is not Namikaze?',\n",
       "  'Naruto belongs to Uzumaki Clan and called “Naruto Uzumaki” because there is a meaning behind it.During the Third Shinobi War, Minato had gained several enemies, They didn’t want to lose a chance to get revenge from Minato.After Minato’s death, Naruto was given Uzumaki name instead of Namikaze to prevent him from the enemies and foes of Minato Namikaze.That’s why Naruto was named Uzumaki and not Namikaze.'),\n",
       " ('Are Naruto and Karin Related?',\n",
       "  'Naruto and Karin are related to each other becuase of the Clan. They both belong to clan Uzumaki.Karin’s hair also relate in colour to Naruto’s Mother (Kushina’s) Hairs.'),\n",
       " ('Can Naruto use Genjutsu?',\n",
       "  'Yes, Naruto can use Genjutsu but he was never shown using it in Naruto or Naruto Shippuden.However, According to Fans, Naruto used a Simple Genjutsu in Boruto against Shin Uchiha. It was not mainly a Genjutsu but simply a sight of Unlocked Kurama inside Naruto which Feared Shin.'),\n",
       " ('Can Naruto Fly?',\n",
       "  'Yes.Naruto COULD fly.But there are limitations to it. He can only fly in Six Paths and Six Paths Sage Mode (SPSM) when he has Truth seeking orbs.'),\n",
       " ('Can Naruto still Fly?',\n",
       "  'No, Naruto could Fly when he had Six Paths Chakra and Truth Seeking Orbs. But in Bijuu Mode, he can’t fly.'),\n",
       " ('Why Naruto is so Good?',\n",
       "  'It is a result of the amazing character advancement they have centered after, during the entire series up until this point.All fundamental characters depicted in Naruto have their own story.')]"
      ]
     },
     "execution_count": 12,
     "metadata": {},
     "output_type": "execute_result"
    }
   ],
   "source": [
    "#creating qs-ans pairs\n",
    "qa_pairs = [(qa_list[i], qa_list[i + 1]) for i in range(0, len(qa_list), 2)]\n",
    "qa_pairs"
   ]
  },
  {
   "cell_type": "code",
   "execution_count": 13,
   "metadata": {},
   "outputs": [
    {
     "data": {
      "text/html": [
       "<div>\n",
       "<style scoped>\n",
       "    .dataframe tbody tr th:only-of-type {\n",
       "        vertical-align: middle;\n",
       "    }\n",
       "\n",
       "    .dataframe tbody tr th {\n",
       "        vertical-align: top;\n",
       "    }\n",
       "\n",
       "    .dataframe thead th {\n",
       "        text-align: right;\n",
       "    }\n",
       "</style>\n",
       "<table border=\"1\" class=\"dataframe\">\n",
       "  <thead>\n",
       "    <tr style=\"text-align: right;\">\n",
       "      <th></th>\n",
       "      <th>qs</th>\n",
       "      <th>ans</th>\n",
       "    </tr>\n",
       "  </thead>\n",
       "  <tbody>\n",
       "    <tr>\n",
       "      <th>0</th>\n",
       "      <td>What is Naruto’s Age?</td>\n",
       "      <td>In Simple Naruto Anime, his age is 12–13 Years...</td>\n",
       "    </tr>\n",
       "    <tr>\n",
       "      <th>1</th>\n",
       "      <td>What was Naruto’s Age When He Graduated From N...</td>\n",
       "      <td>When Naruto Graduated from Ninja Academy, his ...</td>\n",
       "    </tr>\n",
       "    <tr>\n",
       "      <th>2</th>\n",
       "      <td>What is Naruto’s Height?</td>\n",
       "      <td>In Simple Naruto Anime, his Height is 145.3 to...</td>\n",
       "    </tr>\n",
       "    <tr>\n",
       "      <th>3</th>\n",
       "      <td>What is Naruto’s Weight?</td>\n",
       "      <td>In Simple Naruto Anime, his weight is 40.1 kg–...</td>\n",
       "    </tr>\n",
       "    <tr>\n",
       "      <th>4</th>\n",
       "      <td>What is Naruto’s Blood Type?</td>\n",
       "      <td>His Blood Type is B.</td>\n",
       "    </tr>\n",
       "    <tr>\n",
       "      <th>5</th>\n",
       "      <td>Who Voices Naruto in Japanese?</td>\n",
       "      <td>Junko Takeuchi &amp; Ema Kogure Voice Naruto in Ja...</td>\n",
       "    </tr>\n",
       "    <tr>\n",
       "      <th>6</th>\n",
       "      <td>Who Voices Naruto in English?</td>\n",
       "      <td>Mainly, Maile Flanagan Voice Naruto in English.</td>\n",
       "    </tr>\n",
       "    <tr>\n",
       "      <th>7</th>\n",
       "      <td>Other People who voice Naruto at Specific Mome...</td>\n",
       "      <td>Naruto wears Orange colour because It is assoc...</td>\n",
       "    </tr>\n",
       "    <tr>\n",
       "      <th>8</th>\n",
       "      <td>Why Does Naruto Always Say Dattebayo?</td>\n",
       "      <td>“Dattebayo” or “Believe It” is Naruto’s catchp...</td>\n",
       "    </tr>\n",
       "    <tr>\n",
       "      <th>9</th>\n",
       "      <td>Why Naruto is the Best Character?</td>\n",
       "      <td>Naruto is one of the Greatest Protagonists bec...</td>\n",
       "    </tr>\n",
       "    <tr>\n",
       "      <th>10</th>\n",
       "      <td>Why Naruto has Whiskers?</td>\n",
       "      <td>Naruto got whiskers around his face due to the...</td>\n",
       "    </tr>\n",
       "    <tr>\n",
       "      <th>11</th>\n",
       "      <td>Were Naruto and Sasuke supposed to be Together?</td>\n",
       "      <td>Almost Everyone wants to put Sasuke and Naruto...</td>\n",
       "    </tr>\n",
       "    <tr>\n",
       "      <th>12</th>\n",
       "      <td>Were Naruto and Sakura supposed to be Together?</td>\n",
       "      <td>No, Naruto and Sakura were not supposed to be ...</td>\n",
       "    </tr>\n",
       "    <tr>\n",
       "      <th>13</th>\n",
       "      <td>Why Naruto is not Namikaze?</td>\n",
       "      <td>Naruto belongs to Uzumaki Clan and called “Nar...</td>\n",
       "    </tr>\n",
       "    <tr>\n",
       "      <th>14</th>\n",
       "      <td>Are Naruto and Karin Related?</td>\n",
       "      <td>Naruto and Karin are related to each other bec...</td>\n",
       "    </tr>\n",
       "    <tr>\n",
       "      <th>15</th>\n",
       "      <td>Can Naruto use Genjutsu?</td>\n",
       "      <td>Yes, Naruto can use Genjutsu but he was never ...</td>\n",
       "    </tr>\n",
       "    <tr>\n",
       "      <th>16</th>\n",
       "      <td>Can Naruto Fly?</td>\n",
       "      <td>Yes.Naruto COULD fly.But there are limitations...</td>\n",
       "    </tr>\n",
       "    <tr>\n",
       "      <th>17</th>\n",
       "      <td>Can Naruto still Fly?</td>\n",
       "      <td>No, Naruto could Fly when he had Six Paths Cha...</td>\n",
       "    </tr>\n",
       "    <tr>\n",
       "      <th>18</th>\n",
       "      <td>Why Naruto is so Good?</td>\n",
       "      <td>It is a result of the amazing character advanc...</td>\n",
       "    </tr>\n",
       "  </tbody>\n",
       "</table>\n",
       "</div>"
      ],
      "text/plain": [
       "                                                   qs  \\\n",
       "0                               What is Naruto’s Age?   \n",
       "1   What was Naruto’s Age When He Graduated From N...   \n",
       "2                            What is Naruto’s Height?   \n",
       "3                            What is Naruto’s Weight?   \n",
       "4                        What is Naruto’s Blood Type?   \n",
       "5                      Who Voices Naruto in Japanese?   \n",
       "6                       Who Voices Naruto in English?   \n",
       "7   Other People who voice Naruto at Specific Mome...   \n",
       "8               Why Does Naruto Always Say Dattebayo?   \n",
       "9                   Why Naruto is the Best Character?   \n",
       "10                           Why Naruto has Whiskers?   \n",
       "11    Were Naruto and Sasuke supposed to be Together?   \n",
       "12    Were Naruto and Sakura supposed to be Together?   \n",
       "13                        Why Naruto is not Namikaze?   \n",
       "14                      Are Naruto and Karin Related?   \n",
       "15                           Can Naruto use Genjutsu?   \n",
       "16                                    Can Naruto Fly?   \n",
       "17                              Can Naruto still Fly?   \n",
       "18                             Why Naruto is so Good?   \n",
       "\n",
       "                                                  ans  \n",
       "0   In Simple Naruto Anime, his age is 12–13 Years...  \n",
       "1   When Naruto Graduated from Ninja Academy, his ...  \n",
       "2   In Simple Naruto Anime, his Height is 145.3 to...  \n",
       "3   In Simple Naruto Anime, his weight is 40.1 kg–...  \n",
       "4                                His Blood Type is B.  \n",
       "5   Junko Takeuchi & Ema Kogure Voice Naruto in Ja...  \n",
       "6     Mainly, Maile Flanagan Voice Naruto in English.  \n",
       "7   Naruto wears Orange colour because It is assoc...  \n",
       "8   “Dattebayo” or “Believe It” is Naruto’s catchp...  \n",
       "9   Naruto is one of the Greatest Protagonists bec...  \n",
       "10  Naruto got whiskers around his face due to the...  \n",
       "11  Almost Everyone wants to put Sasuke and Naruto...  \n",
       "12  No, Naruto and Sakura were not supposed to be ...  \n",
       "13  Naruto belongs to Uzumaki Clan and called “Nar...  \n",
       "14  Naruto and Karin are related to each other bec...  \n",
       "15  Yes, Naruto can use Genjutsu but he was never ...  \n",
       "16  Yes.Naruto COULD fly.But there are limitations...  \n",
       "17  No, Naruto could Fly when he had Six Paths Cha...  \n",
       "18  It is a result of the amazing character advanc...  "
      ]
     },
     "execution_count": 13,
     "metadata": {},
     "output_type": "execute_result"
    }
   ],
   "source": [
    "#creating dataframe out of pairs\n",
    "df=pd.DataFrame(qa_pairs, columns=['qs','ans'],index=None)\n",
    "df"
   ]
  },
  {
   "cell_type": "code",
   "execution_count": 14,
   "metadata": {},
   "outputs": [],
   "source": [
    "#creating a greetings dataframe\n",
    "greetings_df = pd.DataFrame({\n",
    "    'qs': [\n",
    "        \"Hi, how are you?\",\n",
    "        \"Hello, what's up?\",\n",
    "        \"Hey, how's it going?\",\n",
    "        \"Good to see you, how have you been?\",\n",
    "        \"Hi there, how can I help you today?\",\n",
    "        \"Good Morning.\",\n",
    "        \"Good Afternoon\",\n",
    "        \"Good Evening.\"\n",
    "    ],\n",
    "    'ans': [\n",
    "        \"I'm doing well, Arigato!\",\n",
    "        \"Not much, just here to assist you on anything you ask me on Naruto.\",\n",
    "        \"Naruto being Hokage of our village, everything is going its best, thanks for asking!\",\n",
    "        \"I've been well, how about you?\",\n",
    "        \"I'm here to help. Do you want to know anything about Naruto?\",\n",
    "        \"Ohayogozaimasu! How can I help you today?\",\n",
    "        \"Konichiwa! Welcome to Leaf Village.\",\n",
    "        \"Hello, how are you?\"\n",
    "    ]\n",
    "})\n",
    "\n",
    "#creating an ending chat dataframe\n",
    "ending_chat_df = pd.DataFrame({\n",
    "    'qs': [\n",
    "        \"It was nice chatting with you. Goodbye!\",\n",
    "        \"I have to go now. Goodbye!\",\n",
    "        \"If you have any more questions, feel free to ask. Goodbye!\",\n",
    "        \"Thanks for the conversation. Take care!\",\n",
    "        \"I'll be signing off now. Goodbye!\",\n",
    "        \"Good Night.\"\n",
    "    ],\n",
    "    'ans': [\n",
    "        \"Sayonara! Feel free to return anytime. You are always welcome in our Hidden Leaf Village\",\n",
    "        \"Sayonara! If you need assistance later, don't hesitate to ask. I can help you to get you in touch with Naruto-sama even\",\n",
    "        \"Sure, feel free to reach Konohagakure again. Sayonara!\",\n",
    "        \"You too! Take care and have a great day! Kanpai!\",\n",
    "        \"Alright, Sayonara! If there's anything else, let me know.\",\n",
    "        \"Oyasumi! Do you need anything else, just let me know.\"\n",
    "    ]\n",
    "})\n"
   ]
  },
  {
   "cell_type": "code",
   "execution_count": 15,
   "metadata": {},
   "outputs": [],
   "source": [
    "df=pd.concat([df, greetings_df, ending_chat_df], ignore_index=True)"
   ]
  },
  {
   "cell_type": "code",
   "execution_count": 16,
   "metadata": {},
   "outputs": [
    {
     "name": "stderr",
     "output_type": "stream",
     "text": [
      "C:\\Users\\Lenovo\\AppData\\Local\\Packages\\PythonSoftwareFoundation.Python.3.10_qbz5n2kfra8p0\\LocalCache\\local-packages\\Python310\\site-packages\\tqdm\\auto.py:22: TqdmWarning: IProgress not found. Please update jupyter and ipywidgets. See https://ipywidgets.readthedocs.io/en/stable/user_install.html\n",
      "  from .autonotebook import tqdm as notebook_tqdm\n"
     ]
    }
   ],
   "source": [
    "from sentence_transformers import SentenceTransformer\n",
    "from sklearn.metrics.pairwise import cosine_similarity"
   ]
  },
  {
   "cell_type": "code",
   "execution_count": 17,
   "metadata": {},
   "outputs": [],
   "source": [
    "# Loading a pre-trained BERT model for sentence embeddings\n",
    "model = SentenceTransformer('paraphrase-distilroberta-base-v1')"
   ]
  },
  {
   "cell_type": "code",
   "execution_count": 18,
   "metadata": {},
   "outputs": [],
   "source": [
    "# Encoding questions to obtain BERT embeddings\n",
    "question_embeddings = model.encode(df['qs'].values.tolist())"
   ]
  },
  {
   "cell_type": "code",
   "execution_count": 23,
   "metadata": {},
   "outputs": [],
   "source": [
    "# Function to get the most similar question from the dataset\n",
    "def get_most_similar_question(user_input):\n",
    "    user_input_embedding = model.encode([user_input])\n",
    "    similarities = cosine_similarity(user_input_embedding, question_embeddings)[0]\n",
    "    if max(similarities)<0.5:\n",
    "        return \"Hey, there is some language problem, I couldn't understand, I am still in learning phase. I'll ask Lord Seventh to help me understand more about this.\"\n",
    "    else:\n",
    "        most_similar_index = similarities.argmax()\n",
    "        return df['ans'].iloc[most_similar_index]"
   ]
  },
  {
   "cell_type": "code",
   "execution_count": 27,
   "metadata": {},
   "outputs": [
    {
     "name": "stdout",
     "output_type": "stream",
     "text": [
      "No, Naruto and Sakura were not supposed to be together. Instead, Sasuke and Sakura were meant to be together.At the start of Naruto anime, Sakura’s affection for Sasuke and Hinata’s affection for Naruto is shown.At that moment, it had been decided these two couples will end up together.That’s not the only time where it is shown who they love, proofs and hints are present in the whole Anime.That brings us to the next Question.\n"
     ]
    }
   ],
   "source": [
    "user_input = \"Naruto and Sakura why not together\"\n",
    "response = get_most_similar_question(user_input)\n",
    "print(response)"
   ]
  },
  {
   "cell_type": "code",
   "execution_count": null,
   "metadata": {},
   "outputs": [],
   "source": []
  },
  {
   "cell_type": "code",
   "execution_count": null,
   "metadata": {},
   "outputs": [],
   "source": []
  }
 ],
 "metadata": {
  "kernelspec": {
   "display_name": "Python 3",
   "language": "python",
   "name": "python3"
  },
  "language_info": {
   "codemirror_mode": {
    "name": "ipython",
    "version": 3
   },
   "file_extension": ".py",
   "mimetype": "text/x-python",
   "name": "python",
   "nbconvert_exporter": "python",
   "pygments_lexer": "ipython3",
   "version": "3.10.11"
  }
 },
 "nbformat": 4,
 "nbformat_minor": 2
}
